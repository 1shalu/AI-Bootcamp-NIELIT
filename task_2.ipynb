{
  "nbformat": 4,
  "nbformat_minor": 0,
  "metadata": {
    "colab": {
      "provenance": []
    },
    "kernelspec": {
      "name": "python3",
      "display_name": "Python 3"
    },
    "language_info": {
      "name": "python"
    }
  },
  "cells": [
    {
      "cell_type": "code",
      "execution_count": 4,
      "metadata": {
        "colab": {
          "base_uri": "https://localhost:8080/"
        },
        "id": "R7u1oF9Gp2Qr",
        "outputId": "86c6103f-e9fd-449a-b56f-c0f09ef6f64c"
      },
      "outputs": [
        {
          "output_type": "stream",
          "name": "stdout",
          "text": [
            "5\n",
            "4\n",
            "21\n",
            "13.333333333333334\n"
          ]
        }
      ],
      "source": [
        "#Arithmatic Operator\n",
        "#Add\n",
        "a=2\n",
        "b=3\n",
        "print(a+b)\n",
        "#subtract\n",
        "a=7\n",
        "b=3\n",
        "print(a-b)\n",
        "#Multiplication\n",
        "a=3\n",
        "b=7\n",
        "print(a*b)\n",
        "#Divide\n",
        "a=40\n",
        "b=3\n",
        "print(a/b)\n"
      ]
    }
  ]
}