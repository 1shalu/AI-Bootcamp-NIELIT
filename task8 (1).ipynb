{
  "nbformat": 4,
  "nbformat_minor": 0,
  "metadata": {
    "colab": {
      "provenance": []
    },
    "kernelspec": {
      "name": "python3",
      "display_name": "Python 3"
    },
    "language_info": {
      "name": "python"
    }
  },
  "cells": [
    {
      "cell_type": "code",
      "execution_count": 5,
      "metadata": {
        "colab": {
          "base_uri": "https://localhost:8080/",
          "height": 106
        },
        "id": "U9pmu-KZCg6L",
        "outputId": "df4c497b-6757-43f8-9c75-fa914b2ed3e3"
      },
      "outputs": [
        {
          "output_type": "error",
          "ename": "SyntaxError",
          "evalue": "invalid syntax. Perhaps you forgot a comma? (ipython-input-5-3796990451.py, line 5)",
          "traceback": [
            "\u001b[0;36m  File \u001b[0;32m\"/tmp/ipython-input-5-3796990451.py\"\u001b[0;36m, line \u001b[0;32m5\u001b[0m\n\u001b[0;31m    keras.layers.Flatten(input_shape (28,28))\u001b[0m\n\u001b[0m    ^\u001b[0m\n\u001b[0;31mSyntaxError\u001b[0m\u001b[0;31m:\u001b[0m invalid syntax. Perhaps you forgot a comma?\n"
          ]
        }
      ],
      "source": [
        "import tensorflow as tf\n",
        "from tensorflow import keras\n",
        "from tensorflow.keras.layers import Dense\n",
        "model.keras.Sequential([\n",
        "keras.layers.Flatten(input_shape (28,28))\n",
        " Dense(128, activation= 'relu')\n",
        " Dense(10, activation=\"softmax\")])\n",
        "model.compile(optimizer =\"adam\",\n",
        "loss=\"sparse_categorical_crossentropy\",\n",
        "metrics=['accuracy'])\n",
        "(x_train, y_train), (x test, y test) keras.datasets.mist.load_data()\n",
        "model.fit(x_train, y_train, epochs-5)\n",
        "loss, accuracy= model.evaluate(x_test, y_test, verbose=0)\n",
        "print(f\"Loss: {loss:.4f}\")\n",
        "print(f\"Accuracy: (accuracy:.4f)\")"
      ]
    }
  ]
}