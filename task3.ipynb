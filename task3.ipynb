{
  "nbformat": 4,
  "nbformat_minor": 0,
  "metadata": {
    "colab": {
      "provenance": []
    },
    "kernelspec": {
      "name": "python3",
      "display_name": "Python 3"
    },
    "language_info": {
      "name": "python"
    }
  },
  "cells": [
    {
      "cell_type": "code",
      "execution_count": 1,
      "metadata": {
        "colab": {
          "base_uri": "https://localhost:8080/"
        },
        "id": "dJjh-BVreneU",
        "outputId": "b5ec58c2-a1b0-41fe-f9ba-deca79cc641d"
      },
      "outputs": [
        {
          "output_type": "stream",
          "name": "stdout",
          "text": [
            "ENTER FIRST NUMBER23\n",
            "ENTER SECOND NUMBER2\n",
            "46\n"
          ]
        }
      ],
      "source": [
        "a=int(input(\"ENTER FIRST NUMBER\"))\n",
        "b=int(input(\"ENTER SECOND NUMBER\"))\n",
        "c=a*b\n",
        "#mutliplication of 2 no.\n",
        "print(c)"
      ]
    }
  ]
}