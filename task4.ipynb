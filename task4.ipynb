{
  "nbformat": 4,
  "nbformat_minor": 0,
  "metadata": {
    "colab": {
      "provenance": []
    },
    "kernelspec": {
      "name": "python3",
      "display_name": "Python 3"
    },
    "language_info": {
      "name": "python"
    }
  },
  "cells": [
    {
      "cell_type": "code",
      "execution_count": 4,
      "metadata": {
        "colab": {
          "base_uri": "https://localhost:8080/"
        },
        "id": "-YnFamkjrjBp",
        "outputId": "dcba5b3d-7698-43bf-f431-6ad7c5fe0347"
      },
      "outputs": [
        {
          "output_type": "stream",
          "name": "stdout",
          "text": [
            "Enter the 1 st value3\n",
            "Enter 2 nd Value4\n",
            "12\n"
          ]
        }
      ],
      "source": [
        "a=int(input(\"Enter the 1 st value\"))\n",
        "b=int(input(\"Enter 2 nd Value\"))\n",
        "c=a*b\n",
        "print(c)"
      ]
    }
  ]
}